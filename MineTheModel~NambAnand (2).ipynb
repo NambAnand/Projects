{
  "cells": [
    {
      "cell_type": "code",
      "execution_count": null,
      "metadata": {
        "id": "bcAoV0npEl1f"
      },
      "outputs": [],
      "source": [
        "filename='374'"
      ]
    },
    {
      "cell_type": "code",
      "execution_count": null,
      "metadata": {
        "id": "ZlmzfTDdOKmy"
      },
      "outputs": [],
      "source": [
        "rfile='374.csv'"
      ]
    },
    {
      "cell_type": "code",
      "execution_count": null,
      "metadata": {
        "id": "-83A8xtKoc-W"
      },
      "outputs": [],
      "source": [
        "import pandas as pd"
      ]
    },
    {
      "cell_type": "code",
      "execution_count": null,
      "metadata": {
        "colab": {
          "base_uri": "https://localhost:8080/",
          "height": 206
        },
        "id": "3eJ_JRu6oyRs",
        "outputId": "628c8a06-079c-40a1-b2c9-f92cbea1d727"
      },
      "outputs": [
        {
          "data": {
            "text/html": [
              "\n",
              "  <div id=\"df-886e49ec-9801-4b26-9490-2f1fbdbb8deb\" class=\"colab-df-container\">\n",
              "    <div>\n",
              "<style scoped>\n",
              "    .dataframe tbody tr th:only-of-type {\n",
              "        vertical-align: middle;\n",
              "    }\n",
              "\n",
              "    .dataframe tbody tr th {\n",
              "        vertical-align: top;\n",
              "    }\n",
              "\n",
              "    .dataframe thead th {\n",
              "        text-align: right;\n",
              "    }\n",
              "</style>\n",
              "<table border=\"1\" class=\"dataframe\">\n",
              "  <thead>\n",
              "    <tr style=\"text-align: right;\">\n",
              "      <th></th>\n",
              "      <th>Date</th>\n",
              "      <th>Open</th>\n",
              "      <th>High</th>\n",
              "      <th>Low</th>\n",
              "      <th>Close</th>\n",
              "      <th>Adj Close</th>\n",
              "      <th>Volume</th>\n",
              "      <th>Dividends</th>\n",
              "      <th>Stock Splits</th>\n",
              "    </tr>\n",
              "  </thead>\n",
              "  <tbody>\n",
              "    <tr>\n",
              "      <th>2995</th>\n",
              "      <td>2018-11-30</td>\n",
              "      <td>12.49</td>\n",
              "      <td>12.60</td>\n",
              "      <td>12.30</td>\n",
              "      <td>12.59</td>\n",
              "      <td>10.385250</td>\n",
              "      <td>5545700</td>\n",
              "      <td>0.0</td>\n",
              "      <td>0.0</td>\n",
              "    </tr>\n",
              "    <tr>\n",
              "      <th>2996</th>\n",
              "      <td>2018-12-03</td>\n",
              "      <td>12.54</td>\n",
              "      <td>12.64</td>\n",
              "      <td>12.34</td>\n",
              "      <td>12.62</td>\n",
              "      <td>10.409995</td>\n",
              "      <td>2795500</td>\n",
              "      <td>0.0</td>\n",
              "      <td>0.0</td>\n",
              "    </tr>\n",
              "    <tr>\n",
              "      <th>2997</th>\n",
              "      <td>2018-12-04</td>\n",
              "      <td>12.55</td>\n",
              "      <td>12.63</td>\n",
              "      <td>12.42</td>\n",
              "      <td>12.58</td>\n",
              "      <td>10.377000</td>\n",
              "      <td>2915800</td>\n",
              "      <td>0.0</td>\n",
              "      <td>0.0</td>\n",
              "    </tr>\n",
              "    <tr>\n",
              "      <th>2998</th>\n",
              "      <td>2018-12-05</td>\n",
              "      <td>12.50</td>\n",
              "      <td>12.50</td>\n",
              "      <td>12.07</td>\n",
              "      <td>12.10</td>\n",
              "      <td>9.981056</td>\n",
              "      <td>8120600</td>\n",
              "      <td>0.0</td>\n",
              "      <td>0.0</td>\n",
              "    </tr>\n",
              "    <tr>\n",
              "      <th>2999</th>\n",
              "      <td>2018-12-06</td>\n",
              "      <td>12.19</td>\n",
              "      <td>12.21</td>\n",
              "      <td>11.78</td>\n",
              "      <td>11.90</td>\n",
              "      <td>9.816081</td>\n",
              "      <td>4666000</td>\n",
              "      <td>0.0</td>\n",
              "      <td>0.0</td>\n",
              "    </tr>\n",
              "  </tbody>\n",
              "</table>\n",
              "</div>\n",
              "    <div class=\"colab-df-buttons\">\n",
              "\n",
              "  <div class=\"colab-df-container\">\n",
              "    <button class=\"colab-df-convert\" onclick=\"convertToInteractive('df-886e49ec-9801-4b26-9490-2f1fbdbb8deb')\"\n",
              "            title=\"Convert this dataframe to an interactive table.\"\n",
              "            style=\"display:none;\">\n",
              "\n",
              "  <svg xmlns=\"http://www.w3.org/2000/svg\" height=\"24px\" viewBox=\"0 -960 960 960\">\n",
              "    <path d=\"M120-120v-720h720v720H120Zm60-500h600v-160H180v160Zm220 220h160v-160H400v160Zm0 220h160v-160H400v160ZM180-400h160v-160H180v160Zm440 0h160v-160H620v160ZM180-180h160v-160H180v160Zm440 0h160v-160H620v160Z\"/>\n",
              "  </svg>\n",
              "    </button>\n",
              "\n",
              "  <style>\n",
              "    .colab-df-container {\n",
              "      display:flex;\n",
              "      gap: 12px;\n",
              "    }\n",
              "\n",
              "    .colab-df-convert {\n",
              "      background-color: #E8F0FE;\n",
              "      border: none;\n",
              "      border-radius: 50%;\n",
              "      cursor: pointer;\n",
              "      display: none;\n",
              "      fill: #1967D2;\n",
              "      height: 32px;\n",
              "      padding: 0 0 0 0;\n",
              "      width: 32px;\n",
              "    }\n",
              "\n",
              "    .colab-df-convert:hover {\n",
              "      background-color: #E2EBFA;\n",
              "      box-shadow: 0px 1px 2px rgba(60, 64, 67, 0.3), 0px 1px 3px 1px rgba(60, 64, 67, 0.15);\n",
              "      fill: #174EA6;\n",
              "    }\n",
              "\n",
              "    .colab-df-buttons div {\n",
              "      margin-bottom: 4px;\n",
              "    }\n",
              "\n",
              "    [theme=dark] .colab-df-convert {\n",
              "      background-color: #3B4455;\n",
              "      fill: #D2E3FC;\n",
              "    }\n",
              "\n",
              "    [theme=dark] .colab-df-convert:hover {\n",
              "      background-color: #434B5C;\n",
              "      box-shadow: 0px 1px 3px 1px rgba(0, 0, 0, 0.15);\n",
              "      filter: drop-shadow(0px 1px 2px rgba(0, 0, 0, 0.3));\n",
              "      fill: #FFFFFF;\n",
              "    }\n",
              "  </style>\n",
              "\n",
              "    <script>\n",
              "      const buttonEl =\n",
              "        document.querySelector('#df-886e49ec-9801-4b26-9490-2f1fbdbb8deb button.colab-df-convert');\n",
              "      buttonEl.style.display =\n",
              "        google.colab.kernel.accessAllowed ? 'block' : 'none';\n",
              "\n",
              "      async function convertToInteractive(key) {\n",
              "        const element = document.querySelector('#df-886e49ec-9801-4b26-9490-2f1fbdbb8deb');\n",
              "        const dataTable =\n",
              "          await google.colab.kernel.invokeFunction('convertToInteractive',\n",
              "                                                    [key], {});\n",
              "        if (!dataTable) return;\n",
              "\n",
              "        const docLinkHtml = 'Like what you see? Visit the ' +\n",
              "          '<a target=\"_blank\" href=https://colab.research.google.com/notebooks/data_table.ipynb>data table notebook</a>'\n",
              "          + ' to learn more about interactive tables.';\n",
              "        element.innerHTML = '';\n",
              "        dataTable['output_type'] = 'display_data';\n",
              "        await google.colab.output.renderOutput(dataTable, element);\n",
              "        const docLink = document.createElement('div');\n",
              "        docLink.innerHTML = docLinkHtml;\n",
              "        element.appendChild(docLink);\n",
              "      }\n",
              "    </script>\n",
              "  </div>\n",
              "\n",
              "\n",
              "<div id=\"df-ff172f3a-21f8-4876-9a51-ca0c35d80d48\">\n",
              "  <button class=\"colab-df-quickchart\" onclick=\"quickchart('df-ff172f3a-21f8-4876-9a51-ca0c35d80d48')\"\n",
              "            title=\"Suggest charts.\"\n",
              "            style=\"display:none;\">\n",
              "\n",
              "<svg xmlns=\"http://www.w3.org/2000/svg\" height=\"24px\"viewBox=\"0 0 24 24\"\n",
              "     width=\"24px\">\n",
              "    <g>\n",
              "        <path d=\"M19 3H5c-1.1 0-2 .9-2 2v14c0 1.1.9 2 2 2h14c1.1 0 2-.9 2-2V5c0-1.1-.9-2-2-2zM9 17H7v-7h2v7zm4 0h-2V7h2v10zm4 0h-2v-4h2v4z\"/>\n",
              "    </g>\n",
              "</svg>\n",
              "  </button>\n",
              "\n",
              "<style>\n",
              "  .colab-df-quickchart {\n",
              "      --bg-color: #E8F0FE;\n",
              "      --fill-color: #1967D2;\n",
              "      --hover-bg-color: #E2EBFA;\n",
              "      --hover-fill-color: #174EA6;\n",
              "      --disabled-fill-color: #AAA;\n",
              "      --disabled-bg-color: #DDD;\n",
              "  }\n",
              "\n",
              "  [theme=dark] .colab-df-quickchart {\n",
              "      --bg-color: #3B4455;\n",
              "      --fill-color: #D2E3FC;\n",
              "      --hover-bg-color: #434B5C;\n",
              "      --hover-fill-color: #FFFFFF;\n",
              "      --disabled-bg-color: #3B4455;\n",
              "      --disabled-fill-color: #666;\n",
              "  }\n",
              "\n",
              "  .colab-df-quickchart {\n",
              "    background-color: var(--bg-color);\n",
              "    border: none;\n",
              "    border-radius: 50%;\n",
              "    cursor: pointer;\n",
              "    display: none;\n",
              "    fill: var(--fill-color);\n",
              "    height: 32px;\n",
              "    padding: 0;\n",
              "    width: 32px;\n",
              "  }\n",
              "\n",
              "  .colab-df-quickchart:hover {\n",
              "    background-color: var(--hover-bg-color);\n",
              "    box-shadow: 0 1px 2px rgba(60, 64, 67, 0.3), 0 1px 3px 1px rgba(60, 64, 67, 0.15);\n",
              "    fill: var(--button-hover-fill-color);\n",
              "  }\n",
              "\n",
              "  .colab-df-quickchart-complete:disabled,\n",
              "  .colab-df-quickchart-complete:disabled:hover {\n",
              "    background-color: var(--disabled-bg-color);\n",
              "    fill: var(--disabled-fill-color);\n",
              "    box-shadow: none;\n",
              "  }\n",
              "\n",
              "  .colab-df-spinner {\n",
              "    border: 2px solid var(--fill-color);\n",
              "    border-color: transparent;\n",
              "    border-bottom-color: var(--fill-color);\n",
              "    animation:\n",
              "      spin 1s steps(1) infinite;\n",
              "  }\n",
              "\n",
              "  @keyframes spin {\n",
              "    0% {\n",
              "      border-color: transparent;\n",
              "      border-bottom-color: var(--fill-color);\n",
              "      border-left-color: var(--fill-color);\n",
              "    }\n",
              "    20% {\n",
              "      border-color: transparent;\n",
              "      border-left-color: var(--fill-color);\n",
              "      border-top-color: var(--fill-color);\n",
              "    }\n",
              "    30% {\n",
              "      border-color: transparent;\n",
              "      border-left-color: var(--fill-color);\n",
              "      border-top-color: var(--fill-color);\n",
              "      border-right-color: var(--fill-color);\n",
              "    }\n",
              "    40% {\n",
              "      border-color: transparent;\n",
              "      border-right-color: var(--fill-color);\n",
              "      border-top-color: var(--fill-color);\n",
              "    }\n",
              "    60% {\n",
              "      border-color: transparent;\n",
              "      border-right-color: var(--fill-color);\n",
              "    }\n",
              "    80% {\n",
              "      border-color: transparent;\n",
              "      border-right-color: var(--fill-color);\n",
              "      border-bottom-color: var(--fill-color);\n",
              "    }\n",
              "    90% {\n",
              "      border-color: transparent;\n",
              "      border-bottom-color: var(--fill-color);\n",
              "    }\n",
              "  }\n",
              "</style>\n",
              "\n",
              "  <script>\n",
              "    async function quickchart(key) {\n",
              "      const quickchartButtonEl =\n",
              "        document.querySelector('#' + key + ' button');\n",
              "      quickchartButtonEl.disabled = true;  // To prevent multiple clicks.\n",
              "      quickchartButtonEl.classList.add('colab-df-spinner');\n",
              "      try {\n",
              "        const charts = await google.colab.kernel.invokeFunction(\n",
              "            'suggestCharts', [key], {});\n",
              "      } catch (error) {\n",
              "        console.error('Error during call to suggestCharts:', error);\n",
              "      }\n",
              "      quickchartButtonEl.classList.remove('colab-df-spinner');\n",
              "      quickchartButtonEl.classList.add('colab-df-quickchart-complete');\n",
              "    }\n",
              "    (() => {\n",
              "      let quickchartButtonEl =\n",
              "        document.querySelector('#df-ff172f3a-21f8-4876-9a51-ca0c35d80d48 button');\n",
              "      quickchartButtonEl.style.display =\n",
              "        google.colab.kernel.accessAllowed ? 'block' : 'none';\n",
              "    })();\n",
              "  </script>\n",
              "</div>\n",
              "    </div>\n",
              "  </div>\n"
            ],
            "text/plain": [
              "            Date   Open   High    Low  Close  Adj Close   Volume  Dividends  \\\n",
              "2995  2018-11-30  12.49  12.60  12.30  12.59  10.385250  5545700        0.0   \n",
              "2996  2018-12-03  12.54  12.64  12.34  12.62  10.409995  2795500        0.0   \n",
              "2997  2018-12-04  12.55  12.63  12.42  12.58  10.377000  2915800        0.0   \n",
              "2998  2018-12-05  12.50  12.50  12.07  12.10   9.981056  8120600        0.0   \n",
              "2999  2018-12-06  12.19  12.21  11.78  11.90   9.816081  4666000        0.0   \n",
              "\n",
              "      Stock Splits  \n",
              "2995           0.0  \n",
              "2996           0.0  \n",
              "2997           0.0  \n",
              "2998           0.0  \n",
              "2999           0.0  "
            ]
          },
          "execution_count": 4,
          "metadata": {},
          "output_type": "execute_result"
        }
      ],
      "source": [
        "df=pd.read_csv(rfile)\n",
        "df.head()\n",
        "df.tail()"
      ]
    },
    {
      "cell_type": "code",
      "execution_count": null,
      "metadata": {
        "colab": {
          "base_uri": "https://localhost:8080/"
        },
        "id": "fcXtDMcCo3pN",
        "outputId": "87a774c6-2941-4be0-d4ff-bf8184cdfb68"
      },
      "outputs": [
        {
          "data": {
            "text/plain": [
              "0       12.47\n",
              "1       12.10\n",
              "2       11.54\n",
              "3       11.10\n",
              "4       10.92\n",
              "        ...  \n",
              "2995    12.59\n",
              "2996    12.62\n",
              "2997    12.58\n",
              "2998    12.10\n",
              "2999    11.90\n",
              "Name: Close, Length: 3000, dtype: float64"
            ]
          },
          "execution_count": 5,
          "metadata": {},
          "output_type": "execute_result"
        }
      ],
      "source": [
        "df2=df.reset_index()['Close']\n",
        "df2"
      ]
    },
    {
      "cell_type": "code",
      "execution_count": null,
      "metadata": {
        "colab": {
          "base_uri": "https://localhost:8080/",
          "height": 447
        },
        "id": "4KFDVTmOo_Qi",
        "outputId": "9fb4c98d-1198-41b2-f1a8-5bc7bd17d1df"
      },
      "outputs": [
        {
          "data": {
            "text/plain": [
              "[<matplotlib.lines.Line2D at 0x7ad608a98430>]"
            ]
          },
          "execution_count": 6,
          "metadata": {},
          "output_type": "execute_result"
        },
        {
          "data": {
            "image/png": "[encoded data removed]",
            "text/plain": [
              "<Figure size 640x480 with 1 Axes>"
            ]
          },
          "metadata": {},
          "output_type": "display_data"
        }
      ],
      "source": [
        " import matplotlib.pyplot as plt\n",
        " plt.plot(df2)"
      ]
    },
    {
      "cell_type": "code",
      "execution_count": null,
      "metadata": {
        "id": "I2zssQ1PpL6_"
      },
      "outputs": [],
      "source": [
        "import numpy as np"
      ]
    },
    {
      "cell_type": "code",
      "execution_count": null,
      "metadata": {
        "colab": {
          "base_uri": "https://localhost:8080/"
        },
        "id": "j99EBrYppQIj",
        "outputId": "dadd08a7-7c5f-409d-f723-552701b3170f"
      },
      "outputs": [
        {
          "data": {
            "text/plain": [
              "array([[0.70854274],\n",
              "       [0.67755448],\n",
              "       [0.63065327],\n",
              "       ...,\n",
              "       [0.71775544],\n",
              "       [0.67755448],\n",
              "       [0.66080399]])"
            ]
          },
          "execution_count": 8,
          "metadata": {},
          "output_type": "execute_result"
        }
      ],
      "source": [
        "from sklearn.preprocessing import MinMaxScaler\n",
        "scaler=MinMaxScaler(feature_range=(0,1))\n",
        "df2=scaler.fit_transform(np.array(df2).reshape(-1,1))\n",
        "df2"
      ]
    },
    {
      "cell_type": "code",
      "execution_count": null,
      "metadata": {
        "colab": {
          "base_uri": "https://localhost:8080/"
        },
        "id": "u9cJ_QLlpSUI",
        "outputId": "e69b3551-b78e-42c1-da78-214a1d1f05a8"
      },
      "outputs": [
        {
          "data": {
            "text/plain": [
              "(3000, 1)"
            ]
          },
          "execution_count": 9,
          "metadata": {},
          "output_type": "execute_result"
        }
      ],
      "source": [
        "df2.shape"
      ]
    },
    {
      "cell_type": "code",
      "execution_count": null,
      "metadata": {
        "id": "yUEqdMv1pWP7"
      },
      "outputs": [],
      "source": [
        "training_size=int(len(df2)*0.65)\n",
        "test_size=len(df2)-training_size\n",
        "train_data,test_data=df2[0:training_size,:],df2[training_size:len(df2),:1]"
      ]
    },
    {
      "cell_type": "code",
      "execution_count": null,
      "metadata": {
        "id": "atMkUHuVpY_t"
      },
      "outputs": [],
      "source": [
        "import numpy\n",
        "def create_dataset(dataset, time_step=1):\n",
        "  dataX, dataY=[], []\n",
        "  for i in range(len(dataset)-time_step-1):\n",
        "    a=dataset[i:(i+time_step),0]\n",
        "    dataX.append(a)\n",
        "    dataY.append(dataset[i+time_step,0])\n",
        "  return numpy.array(dataX),numpy.array(dataY)"
      ]
    },
    {
      "cell_type": "code",
      "execution_count": null,
      "metadata": {
        "id": "KhZz4zLzpbLV"
      },
      "outputs": [],
      "source": [
        "time_step=100\n",
        "X_train,y_train=create_dataset(train_data,time_step)\n",
        "X_test,y_test=create_dataset(test_data,time_step)"
      ]
    },
    {
      "cell_type": "code",
      "execution_count": null,
      "metadata": {
        "colab": {
          "base_uri": "https://localhost:8080/"
        },
        "id": "iFxeEgqWpnNr",
        "outputId": "e33c4e1f-4403-4819-dafc-cc50ffa0e66c"
      },
      "outputs": [
        {
          "name": "stdout",
          "output_type": "stream",
          "text": [
            "(949, 100)\n",
            "(949,)\n"
          ]
        },
        {
          "data": {
            "text/plain": [
              "(None, None)"
            ]
          },
          "execution_count": 13,
          "metadata": {},
          "output_type": "execute_result"
        }
      ],
      "source": [
        "print(X_test.shape), print(y_test.shape)"
      ]
    },
    {
      "cell_type": "code",
      "execution_count": null,
      "metadata": {
        "id": "69fMfUmnpzZy"
      },
      "outputs": [],
      "source": [
        "from tensorflow.keras.models import Sequential\n",
        "from tensorflow.keras.layers import Dense\n",
        "from tensorflow.keras.layers import LSTM,Dropout,LeakyReLU"
      ]
    },
    {
      "cell_type": "code",
      "execution_count": null,
      "metadata": {
        "id": "O8_vs_7kp3aZ"
      },
      "outputs": [],
      "source": [
        "model=Sequential()\n",
        "model.add(LSTM(128,return_sequences=True,input_shape=(100,1)))\n",
        "model.add(LeakyReLU(alpha=0.001))\n",
        "model.add(Dropout(0.3))\n",
        "model.add(LSTM(128,return_sequences=True))\n",
        "model.add(LeakyReLU(alpha=0.001))\n",
        "model.add(Dropout(0.3))\n",
        "model.add(LSTM(128))\n",
        "model.add(LeakyReLU(alpha=0.001))\n",
        "model.add(Dense(1))\n",
        "model.compile(loss='mean_squared_error',optimizer='adam')"
      ]
    },
    {
      "cell_type": "code",
      "execution_count": null,
      "metadata": {
        "colab": {
          "base_uri": "https://localhost:8080/"
        },
        "id": "KtI1DoN9p7fE",
        "outputId": "2f916bb5-6d8b-4a59-9f14-776ecd78120b"
      },
      "outputs": [
        {
          "name": "stdout",
          "output_type": "stream",
          "text": [
            "Epoch 1/50\n",
            "29/29 [==============================] - 13s 61ms/step - loss: 0.0303 - val_loss: 0.0047\n",
            "Epoch 2/50\n",
            "29/29 [==============================] - 1s 23ms/step - loss: 0.0041 - val_loss: 0.0026\n",
            "Epoch 3/50\n",
            "29/29 [==============================] - 1s 27ms/step - loss: 0.0035 - val_loss: 0.0022\n",
            "Epoch 4/50\n",
            "29/29 [==============================] - 1s 24ms/step - loss: 0.0032 - val_loss: 0.0019\n",
            "Epoch 5/50\n",
            "29/29 [==============================] - 1s 20ms/step - loss: 0.0027 - val_loss: 0.0016\n",
            "Epoch 6/50\n",
            "29/29 [==============================] - 1s 21ms/step - loss: 0.0028 - val_loss: 0.0040\n",
            "Epoch 7/50\n",
            "29/29 [==============================] - 1s 19ms/step - loss: 0.0027 - val_loss: 0.0017\n",
            "Epoch 8/50\n",
            "29/29 [==============================] - 1s 18ms/step - loss: 0.0024 - val_loss: 0.0018\n",
            "Epoch 9/50\n",
            "29/29 [==============================] - 1s 20ms/step - loss: 0.0023 - val_loss: 0.0026\n",
            "Epoch 10/50\n",
            "29/29 [==============================] - 1s 21ms/step - loss: 0.0020 - val_loss: 0.0011\n",
            "Epoch 11/50\n",
            "29/29 [==============================] - 1s 19ms/step - loss: 0.0022 - val_loss: 0.0011\n",
            "Epoch 12/50\n",
            "29/29 [==============================] - 1s 20ms/step - loss: 0.0018 - val_loss: 0.0016\n",
            "Epoch 13/50\n",
            "29/29 [==============================] - 1s 21ms/step - loss: 0.0018 - val_loss: 9.7030e-04\n",
            "Epoch 14/50\n",
            "29/29 [==============================] - 1s 19ms/step - loss: 0.0017 - val_loss: 9.8715e-04\n",
            "Epoch 15/50\n",
            "29/29 [==============================] - 1s 21ms/step - loss: 0.0016 - val_loss: 9.0270e-04\n",
            "Epoch 16/50\n",
            "29/29 [==============================] - 1s 21ms/step - loss: 0.0017 - val_loss: 0.0011\n",
            "Epoch 17/50\n",
            "29/29 [==============================] - 1s 19ms/step - loss: 0.0015 - val_loss: 0.0011\n",
            "Epoch 18/50\n",
            "29/29 [==============================] - 1s 18ms/step - loss: 0.0017 - val_loss: 9.4961e-04\n",
            "Epoch 19/50\n",
            "29/29 [==============================] - 1s 20ms/step - loss: 0.0015 - val_loss: 8.3530e-04\n",
            "Epoch 20/50\n",
            "29/29 [==============================] - 1s 22ms/step - loss: 0.0014 - val_loss: 0.0018\n",
            "Epoch 21/50\n",
            "29/29 [==============================] - 1s 19ms/step - loss: 0.0014 - val_loss: 7.7014e-04\n",
            "Epoch 22/50\n",
            "29/29 [==============================] - 1s 22ms/step - loss: 0.0015 - val_loss: 9.0680e-04\n",
            "Epoch 23/50\n",
            "29/29 [==============================] - 1s 26ms/step - loss: 0.0016 - val_loss: 0.0016\n",
            "Epoch 24/50\n",
            "29/29 [==============================] - 1s 24ms/step - loss: 0.0016 - val_loss: 6.9924e-04\n",
            "Epoch 25/50\n",
            "29/29 [==============================] - 1s 21ms/step - loss: 0.0014 - val_loss: 8.8670e-04\n",
            "Epoch 26/50\n",
            "29/29 [==============================] - 1s 20ms/step - loss: 0.0013 - val_loss: 0.0011\n",
            "Epoch 27/50\n",
            "29/29 [==============================] - 1s 21ms/step - loss: 0.0014 - val_loss: 7.2377e-04\n",
            "Epoch 28/50\n",
            "29/29 [==============================] - 1s 18ms/step - loss: 0.0016 - val_loss: 0.0019\n",
            "Epoch 29/50\n",
            "29/29 [==============================] - 1s 18ms/step - loss: 0.0014 - val_loss: 8.6686e-04\n",
            "Epoch 30/50\n",
            "29/29 [==============================] - 1s 20ms/step - loss: 0.0013 - val_loss: 7.1628e-04\n",
            "Epoch 31/50\n",
            "29/29 [==============================] - 1s 18ms/step - loss: 0.0013 - val_loss: 5.9907e-04\n",
            "Epoch 32/50\n",
            "29/29 [==============================] - 1s 20ms/step - loss: 0.0014 - val_loss: 9.0182e-04\n",
            "Epoch 33/50\n",
            "29/29 [==============================] - 1s 20ms/step - loss: 0.0014 - val_loss: 0.0011\n",
            "Epoch 34/50\n",
            "29/29 [==============================] - 1s 21ms/step - loss: 0.0014 - val_loss: 7.4831e-04\n",
            "Epoch 35/50\n",
            "29/29 [==============================] - 1s 18ms/step - loss: 0.0012 - val_loss: 6.0530e-04\n",
            "Epoch 36/50\n",
            "29/29 [==============================] - 1s 20ms/step - loss: 0.0011 - val_loss: 5.6124e-04\n",
            "Epoch 37/50\n",
            "29/29 [==============================] - 1s 20ms/step - loss: 0.0012 - val_loss: 5.8889e-04\n",
            "Epoch 38/50\n",
            "29/29 [==============================] - 1s 19ms/step - loss: 0.0013 - val_loss: 6.0159e-04\n",
            "Epoch 39/50\n",
            "29/29 [==============================] - 1s 18ms/step - loss: 0.0013 - val_loss: 5.9908e-04\n",
            "Epoch 40/50\n",
            "29/29 [==============================] - 1s 20ms/step - loss: 0.0012 - val_loss: 5.8000e-04\n",
            "Epoch 41/50\n",
            "29/29 [==============================] - 1s 20ms/step - loss: 0.0011 - val_loss: 5.5427e-04\n",
            "Epoch 42/50\n",
            "29/29 [==============================] - 1s 18ms/step - loss: 0.0011 - val_loss: 5.6386e-04\n",
            "Epoch 43/50\n",
            "29/29 [==============================] - 1s 24ms/step - loss: 0.0011 - val_loss: 0.0015\n",
            "Epoch 44/50\n",
            "29/29 [==============================] - 1s 27ms/step - loss: 0.0012 - val_loss: 0.0020\n",
            "Epoch 45/50\n",
            "29/29 [==============================] - 1s 25ms/step - loss: 0.0013 - val_loss: 7.9731e-04\n",
            "Epoch 46/50\n",
            "29/29 [==============================] - 1s 21ms/step - loss: 0.0012 - val_loss: 6.1258e-04\n",
            "Epoch 47/50\n",
            "29/29 [==============================] - 1s 20ms/step - loss: 0.0011 - val_loss: 5.2932e-04\n",
            "Epoch 48/50\n",
            "29/29 [==============================] - 1s 18ms/step - loss: 0.0011 - val_loss: 7.7309e-04\n",
            "Epoch 49/50\n",
            "29/29 [==============================] - 1s 18ms/step - loss: 0.0010 - val_loss: 5.3605e-04\n",
            "Epoch 50/50\n",
            "29/29 [==============================] - 1s 20ms/step - loss: 0.0010 - val_loss: 7.5193e-04\n"
          ]
        },
        {
          "data": {
            "text/plain": [
              "<keras.src.callbacks.History at 0x7ad59c7866b0>"
            ]
          },
          "execution_count": 16,
          "metadata": {},
          "output_type": "execute_result"
        }
      ],
      "source": [
        "model.fit(X_train,y_train,validation_data=(X_test,y_test),epochs=50,batch_size=64,verbose=1)"
      ]
    },
    {
      "cell_type": "code",
      "execution_count": null,
      "metadata": {
        "colab": {
          "base_uri": "https://localhost:8080/"
        },
        "id": "5JRbJTSUp_Ps",
        "outputId": "98050081-f452-4ad6-9597-c3941a437014"
      },
      "outputs": [
        {
          "name": "stdout",
          "output_type": "stream",
          "text": [
            "58/58 [==============================] - 1s 8ms/step\n",
            "30/30 [==============================] - 0s 5ms/step\n"
          ]
        }
      ],
      "source": [
        "train_predict=model.predict(X_train)\n",
        "test_predict=model.predict(X_test)"
      ]
    },
    {
      "cell_type": "code",
      "execution_count": null,
      "metadata": {
        "id": "tkoCzAL0sfcE"
      },
      "outputs": [],
      "source": [
        "train_predict=scaler.inverse_transform(train_predict)\n",
        "test_predict=scaler.inverse_transform(test_predict)"
      ]
    },
    {
      "cell_type": "code",
      "execution_count": null,
      "metadata": {
        "colab": {
          "base_uri": "https://localhost:8080/"
        },
        "id": "eV8RVjRGsjqo",
        "outputId": "6d8909a1-7e9d-4b5b-a3cf-5d55f1895cb6"
      },
      "outputs": [
        {
          "data": {
            "text/plain": [
              "[<matplotlib.lines.Line2D at 0x7ad5581e7f40>]"
            ]
          },
          "execution_count": 19,
          "metadata": {},
          "output_type": "execute_result"
        },
        {
          "data": {
            "image/png": "[encoded data removed]",
            "text/plain": [
              "<Figure size 640x480 with 1 Axes>"
            ]
          },
          "metadata": {},
          "output_type": "display_data"
        }
      ],
      "source": [
        "look_back=100\n",
        "trainPredictPlot=numpy.empty_like(df2)\n",
        "trainPredictPlot[:,:]=np.nan\n",
        "trainPredictPlot[look_back:len(train_predict)+look_back,:]=train_predict\n",
        "testPredictPlot=numpy.empty_like(df2)\n",
        "testPredictPlot[:,:]=np.nan\n",
        "testPredictPlot[len(train_predict)+(look_back*2)+1:len(df2)-1,:]=test_predict\n",
        "#plt.plot(scaler.inverse_transform(df2))\n",
        "plt.plot(trainPredictPlot)\n",
        "plt.plot(testPredictPlot)\n",
        "#plt.plot(scaler.inverse_transform(df2))"
      ]
    },
    {
      "cell_type": "code",
      "execution_count": null,
      "metadata": {
        "colab": {
          "base_uri": "https://localhost:8080/"
        },
        "id": "2rMXtlhUsmSR",
        "outputId": "613efa5a-979e-4a27-9600-dc344f1f1815"
      },
      "outputs": [
        {
          "data": {
            "text/plain": [
              "1050"
            ]
          },
          "execution_count": 20,
          "metadata": {},
          "output_type": "execute_result"
        }
      ],
      "source": [
        "len(test_data)"
      ]
    },
    {
      "cell_type": "code",
      "execution_count": null,
      "metadata": {
        "colab": {
          "base_uri": "https://localhost:8080/"
        },
        "id": "Xpn3JQjyx_s3",
        "outputId": "2e940d7f-4401-4f6b-f101-e4b1b9fac850"
      },
      "outputs": [
        {
          "data": {
            "text/plain": [
              "array([[0.66164153, 0.64572867, 0.66917923, 0.66080399, 0.64824121,\n",
              "        0.66499161, 0.64991629, 0.63316581, 0.65242883, 0.65410383,\n",
              "        0.64237859, 0.64154105, 0.63819097, 0.66499161, 0.64656613,\n",
              "        0.63567843, 0.64824121, 0.68257956, 0.66415407, 0.64405359,\n",
              "        0.67671694, 0.65410383, 0.63902851, 0.62144056, 0.60971524,\n",
              "        0.61809048, 0.62144056, 0.60971524, 0.599665  , 0.58961476,\n",
              "        0.58710222, 0.55862649, 0.56448911, 0.55443887, 0.56951427,\n",
              "        0.64489113, 0.63484089, 0.68090456, 0.71608044, 0.7169179 ,\n",
              "        0.67922948, 0.65661645, 0.67504186, 0.65829145, 0.61306532,\n",
              "        0.65410383, 0.65661645, 0.64321605, 0.62479064, 0.61725294,\n",
              "        0.60050254, 0.61725294, 0.65661645, 0.67252931, 0.67252931,\n",
              "        0.65745391, 0.65745391, 0.65829145, 0.66415407, 0.64405359,\n",
              "        0.65410383, 0.62730319, 0.64405359, 0.66499161, 0.6758794 ,\n",
              "        0.68844218, 0.66666669, 0.71021774, 0.6850921 , 0.66917923,\n",
              "        0.6758794 , 0.67252931, 0.63902851, 0.65661645, 0.68174202,\n",
              "        0.66247907, 0.66750415, 0.7001675 , 0.73953101, 0.75209379,\n",
              "        0.71105528, 0.7077052 , 0.7077052 , 0.7093802 , 0.68927972,\n",
              "        0.69179234, 0.6984925 , 0.71440536, 0.7077052 , 0.72026798,\n",
              "        0.7152429 , 0.6984925 , 0.67755448, 0.67169177, 0.70268004,\n",
              "        0.71859298, 0.72110552, 0.71775544, 0.67755448, 0.66080399]])"
            ]
          },
          "execution_count": 21,
          "metadata": {},
          "output_type": "execute_result"
        }
      ],
      "source": [
        "x_input=test_data[950:].reshape(1,-1)\n",
        "x_input.shape\n",
        "x_input"
      ]
    },
    {
      "cell_type": "code",
      "execution_count": null,
      "metadata": {
        "colab": {
          "base_uri": "https://localhost:8080/"
        },
        "id": "4BawIt-HyDAp",
        "outputId": "1d6bfe03-dd8e-4b64-bd8c-779be1d60fca"
      },
      "outputs": [
        {
          "data": {
            "text/plain": [
              "[0.6616415323422202,\n",
              " 0.6457286691043137,\n",
              " 0.6691792338288899,\n",
              " 0.6608039922054293,\n",
              " 0.6482412096424625,\n",
              " 0.6649916130171597,\n",
              " 0.649916289916044,\n",
              " 0.6331658066691231,\n",
              " 0.6524288304541926,\n",
              " 0.6541038308555507,\n",
              " 0.6423785884293741,\n",
              " 0.6415410482925834,\n",
              " 0.638190967617644,\n",
              " 0.6649916130171597,\n",
              " 0.6465661293688809,\n",
              " 0.6356784270794955,\n",
              " 0.6482412096424625,\n",
              " 0.6825795565286478,\n",
              " 0.6641540728803689,\n",
              " 0.6440535888307322,\n",
              " 0.6767169353155597,\n",
              " 0.6541038308555507,\n",
              " 0.6390285077544348,\n",
              " 0.6214405642429466,\n",
              " 0.6097152419445468,\n",
              " 0.6180904835680073,\n",
              " 0.6214405642429466,\n",
              " 0.6097152419445468,\n",
              " 0.5996649999197283,\n",
              " 0.58961475789491,\n",
              " 0.5871022173567614,\n",
              " 0.5586264916836641,\n",
              " 0.5644891128967523,\n",
              " 0.554438870871934,\n",
              " 0.5695142738452733,\n",
              " 0.644891128967523,\n",
              " 0.6348408869427046,\n",
              " 0.6809045561272898,\n",
              " 0.716080443150266,\n",
              " 0.7169179034148333,\n",
              " 0.6792294758537084,\n",
              " 0.656616451265923,\n",
              " 0.6750418550419782,\n",
              " 0.6582914516672808,\n",
              " 0.6130653226194864,\n",
              " 0.6541038308555507,\n",
              " 0.656616451265923,\n",
              " 0.6432160486939414,\n",
              " 0.6247906449178862,\n",
              " 0.6172529434312165,\n",
              " 0.600502540056519,\n",
              " 0.6172529434312165,\n",
              " 0.656616451265923,\n",
              " 0.6725293145038295,\n",
              " 0.6725293145038295,\n",
              " 0.65745391153049,\n",
              " 0.65745391153049,\n",
              " 0.6582914516672808,\n",
              " 0.6641540728803689,\n",
              " 0.6440535888307322,\n",
              " 0.6541038308555507,\n",
              " 0.6273031854560349,\n",
              " 0.6440535888307322,\n",
              " 0.6649916130171597,\n",
              " 0.675879395178769,\n",
              " 0.6884421777417359,\n",
              " 0.6666666932907414,\n",
              " 0.7102177420649541,\n",
              " 0.6850920970667965,\n",
              " 0.6691792338288899,\n",
              " 0.675879395178769,\n",
              " 0.6725293145038295,\n",
              " 0.6390285077544348,\n",
              " 0.656616451265923,\n",
              " 0.6817420163918569,\n",
              " 0.6624790724790108,\n",
              " 0.6675041535553085,\n",
              " 0.7001675000401358,\n",
              " 0.7395310078748422,\n",
              " 0.7520937904378092,\n",
              " 0.711055282201745,\n",
              " 0.7077052015268056,\n",
              " 0.7077052015268056,\n",
              " 0.7093802019281635,\n",
              " 0.6892797178785267,\n",
              " 0.691792338288899,\n",
              " 0.6984924996387781,\n",
              " 0.7144053628766845,\n",
              " 0.7077052015268056,\n",
              " 0.7202679840897727,\n",
              " 0.7152429030134752,\n",
              " 0.6984924996387781,\n",
              " 0.6775544754523505,\n",
              " 0.6716917743670386,\n",
              " 0.7026800405782844,\n",
              " 0.7185929836884147,\n",
              " 0.7211055242265633,\n",
              " 0.7177554435516241,\n",
              " 0.6775544754523505,\n",
              " 0.6608039922054293]"
            ]
          },
          "execution_count": 22,
          "metadata": {},
          "output_type": "execute_result"
        }
      ],
      "source": [
        "temp_input=list(x_input)\n",
        "temp_input=temp_input[0].tolist()\n",
        "temp_input"
      ]
    },
    {
      "cell_type": "code",
      "execution_count": null,
      "metadata": {
        "colab": {
          "background_save": true,
          "base_uri": "https://localhost:8080/"
        },
        "id": "b04xWLv3yIBB",
        "outputId": "34b84482-96ad-4115-e52d-483351061e86"
      },
      "outputs": [
        {
          "name": "stdout",
          "output_type": "stream",
          "text": [
            "1/1 [==============================] - 0s 21ms/step\n",
            "1/1 [==============================] - 0s 21ms/step\n",
            "1/1 [==============================] - 0s 20ms/step\n",
            "1/1 [==============================] - 0s 22ms/step\n",
            "1/1 [==============================] - 0s 20ms/step\n",
            "1/1 [==============================] - 0s 23ms/step\n",
            "1/1 [==============================] - 0s 20ms/step\n",
            "1/1 [==============================] - 0s 20ms/step\n",
            "1/1 [==============================] - 0s 20ms/step\n",
            "1/1 [==============================] - 0s 23ms/step\n",
            "1/1 [==============================] - 0s 31ms/step\n",
            "1/1 [==============================] - 0s 22ms/step\n",
            "1/1 [==============================] - 0s 20ms/step\n",
            "1/1 [==============================] - 0s 21ms/step\n",
            "1/1 [==============================] - 0s 20ms/step\n",
            "1/1 [==============================] - 0s 22ms/step\n",
            "1/1 [==============================] - 0s 21ms/step\n",
            "1/1 [==============================] - 0s 21ms/step\n",
            "1/1 [==============================] - 0s 22ms/step\n",
            "1/1 [==============================] - 0s 25ms/step\n",
            "1/1 [==============================] - 0s 20ms/step\n",
            "1/1 [==============================] - 0s 20ms/step\n",
            "1/1 [==============================] - 0s 22ms/step\n",
            "1/1 [==============================] - 0s 21ms/step\n",
            "1/1 [==============================] - 0s 26ms/step\n",
            "1/1 [==============================] - 0s 28ms/step\n",
            "1/1 [==============================] - 0s 31ms/step\n",
            "1/1 [==============================] - 0s 25ms/step\n",
            "1/1 [==============================] - 0s 26ms/step\n",
            "1/1 [==============================] - 0s 25ms/step\n",
            "1/1 [==============================] - 0s 21ms/step\n",
            "1/1 [==============================] - 0s 24ms/step\n",
            "1/1 [==============================] - 0s 23ms/step\n",
            "1/1 [==============================] - 0s 24ms/step\n",
            "1/1 [==============================] - 0s 23ms/step\n",
            "1/1 [==============================] - 0s 24ms/step\n",
            "1/1 [==============================] - 0s 24ms/step\n",
            "1/1 [==============================] - 0s 21ms/step\n",
            "1/1 [==============================] - 0s 23ms/step\n",
            "1/1 [==============================] - 0s 20ms/step\n",
            "1/1 [==============================] - 0s 23ms/step\n",
            "1/1 [==============================] - 0s 20ms/step\n",
            "1/1 [==============================] - 0s 20ms/step\n",
            "1/1 [==============================] - 0s 26ms/step\n",
            "1/1 [==============================] - 0s 21ms/step\n",
            "1/1 [==============================] - 0s 24ms/step\n",
            "1/1 [==============================] - 0s 22ms/step\n",
            "1/1 [==============================] - 0s 22ms/step\n",
            "1/1 [==============================] - 0s 22ms/step\n",
            "1/1 [==============================] - 0s 23ms/step\n",
            "1/1 [==============================] - 0s 21ms/step\n",
            "1/1 [==============================] - 0s 20ms/step\n",
            "1/1 [==============================] - 0s 20ms/step\n",
            "1/1 [==============================] - 0s 22ms/step\n",
            "1/1 [==============================] - 0s 21ms/step\n",
            "1/1 [==============================] - 0s 21ms/step\n",
            "1/1 [==============================] - 0s 22ms/step\n",
            "1/1 [==============================] - 0s 19ms/step\n",
            "1/1 [==============================] - 0s 27ms/step\n",
            "1/1 [==============================] - 0s 29ms/step\n",
            "1/1 [==============================] - 0s 24ms/step\n",
            "1/1 [==============================] - 0s 29ms/step\n",
            "1/1 [==============================] - 0s 28ms/step\n",
            "1/1 [==============================] - 0s 25ms/step\n",
            "1/1 [==============================] - 0s 22ms/step\n",
            "1/1 [==============================] - 0s 21ms/step\n",
            "1/1 [==============================] - 0s 22ms/step\n",
            "1/1 [==============================] - 0s 24ms/step\n",
            "1/1 [==============================] - 0s 23ms/step\n",
            "1/1 [==============================] - 0s 22ms/step\n",
            "1/1 [==============================] - 0s 19ms/step\n",
            "1/1 [==============================] - 0s 20ms/step\n",
            "1/1 [==============================] - 0s 22ms/step\n",
            "1/1 [==============================] - 0s 21ms/step\n",
            "1/1 [==============================] - 0s 20ms/step\n",
            "1/1 [==============================] - 0s 24ms/step\n",
            "1/1 [==============================] - 0s 34ms/step\n",
            "1/1 [==============================] - 0s 40ms/step\n",
            "1/1 [==============================] - 0s 31ms/step\n",
            "1/1 [==============================] - 0s 29ms/step\n",
            "1/1 [==============================] - 0s 36ms/step\n",
            "1/1 [==============================] - 0s 30ms/step\n",
            "1/1 [==============================] - 0s 30ms/step\n",
            "1/1 [==============================] - 0s 31ms/step\n",
            "1/1 [==============================] - 0s 29ms/step\n",
            "1/1 [==============================] - 0s 29ms/step\n",
            "1/1 [==============================] - 0s 29ms/step\n",
            "1/1 [==============================] - 0s 36ms/step\n",
            "1/1 [==============================] - 0s 35ms/step\n",
            "1/1 [==============================] - 0s 48ms/step\n",
            "1/1 [==============================] - 0s 34ms/step\n",
            "1/1 [==============================] - 0s 31ms/step\n",
            "1/1 [==============================] - 0s 36ms/step\n",
            "1/1 [==============================] - 0s 34ms/step\n",
            "1/1 [==============================] - 0s 29ms/step\n",
            "1/1 [==============================] - 0s 32ms/step\n",
            "1/1 [==============================] - 0s 30ms/step\n",
            "1/1 [==============================] - 0s 34ms/step\n",
            "1/1 [==============================] - 0s 33ms/step\n",
            "1/1 [==============================] - 0s 30ms/step\n",
            "[[0.47332897782325745], [0.4732496440410614], [0.47317346930503845], [0.4731003940105438], [0.47303035855293274], [0.47296324372291565], [0.47289904952049255], [0.4728376269340515], [0.47277888655662537], [0.4727227985858917], [0.47266915440559387], [0.47261789441108704], [0.47256895899772644], [0.472522109746933], [0.4724772870540619], [0.47243446111679077], [0.4723934233188629], [0.47235408425331116], [0.4723164737224579], [0.4722803831100464], [0.47224581241607666], [0.47221267223358154], [0.47218093276023865], [0.47215044498443604], [0.4721212685108185], [0.4720933139324188], [0.47206658124923706], [0.47204092144966125], [0.4720163643360138], [0.4719928801059723], [0.47197040915489197], [0.47194889187812805], [0.47192829847335815], [0.4719085991382599], [0.47188976407051086], [0.4718717038631439], [0.47185441851615906], [0.4718378782272339], [0.471822053194046], [0.47180691361427307], [0.4717923700809479], [0.4717784821987152], [0.4717651605606079], [0.47175243496894836], [0.4717402160167694], [0.47172853350639343], [0.47171732783317566], [0.4717065989971161], [0.4716963469982147], [0.4716865122318268], [0.47167712450027466], [0.4716680943965912], [0.47165948152542114], [0.47165122628211975], [0.4716432988643646], [0.4716357886791229], [0.4716285169124603], [0.4716216027736664], [0.4716149568557739], [0.47160860896110535], [0.47160252928733826], [0.47159668803215027], [0.47159114480018616], [0.47158578038215637], [0.47158071398735046], [0.4715758264064789], [0.4715711176395416], [0.47156664729118347], [0.4715624153614044], [0.47155824303627014], [0.47155430912971497], [0.4715505540370941], [0.4715469181537628], [0.47154349088668823], [0.4715401828289032], [0.4715370237827301], [0.4715339243412018], [0.47153106331825256], [0.4715282618999481], [0.471525639295578], [0.47152307629585266], [0.47152063250541687], [0.47151827812194824], [0.47151604294776917], [0.47151392698287964], [0.4715118706226349], [0.4715099036693573], [0.4715080261230469], [0.4715062379837036], [0.4715045392513275], [0.4715028703212738], [0.47150126099586487], [0.4714997708797455], [0.4714983403682709], [0.47149696946144104], [0.4714955985546112], [0.4714943468570709], [0.4714931547641754], [0.4714919328689575], [0.4714908301830292]]\n"
          ]
        }
      ],
      "source": [
        "from numpy import array\n",
        "lst_output=[]\n",
        "n_steps=100\n",
        "i=0\n",
        "while(i<100):\n",
        "  if(len(temp_input)>100):\n",
        "    x_input=np.array(temp_input[1:])\n",
        "    #print(\"{} day input {}\".format(i,x_input))\n",
        "    x_input=x_input.reshape(1,-1)\n",
        "    x_input=x_input.reshape(1,n_steps)\n",
        "    y_output=model.predict(x_input)\n",
        "    #print(\"{} day output {}\".format(i,y_output))\n",
        "    temp_input.extend(y_output[0].tolist())\n",
        "    temp_input=temp_input[1:]\n",
        "    lst_output.extend(y_output.tolist())\n",
        "    i=i+1\n",
        "  else:\n",
        "    x_input=x_input.reshape((1,n_steps))\n",
        "    y_output=model.predict(x_input)\n",
        "    temp_input.extend(y_output[0].tolist())\n",
        "    lst_output.extend(y_output[0].tolist())\n",
        "    i=i+1\n",
        "\n",
        "print(lst_output)"
      ]
    },
    {
      "cell_type": "code",
      "execution_count": null,
      "metadata": {
        "colab": {
          "background_save": true
        },
        "id": "xuQxtwMmAcEw"
      },
      "outputs": [],
      "source": [
        "predicted=scaler.inverse_transform(lst_output)"
      ]
    },
    {
      "cell_type": "code",
      "execution_count": null,
      "metadata": {
        "colab": {
          "background_save": true
        },
        "id": "5AjBJ6cHAg3I",
        "outputId": "3f7d57f9-f074-4dde-d25f-4fddd55cb73f"
      },
      "outputs": [
        {
          "data": {
            "text/plain": [
              "array([[14.56975136],\n",
              "       [14.56811421],\n",
              "       [14.56654225],\n",
              "       [14.56503425],\n",
              "       [14.56358898],\n",
              "       [14.56220398],\n",
              "       [14.56087925],\n",
              "       [14.55961172],\n",
              "       [14.55839954],\n",
              "       [14.55724209],\n",
              "       [14.55613508],\n",
              "       [14.55507726],\n",
              "       [14.55406742],\n",
              "       [14.55310063],\n",
              "       [14.55217566],\n",
              "       [14.55129189],\n",
              "       [14.55044502],\n",
              "       [14.54963321],\n",
              "       [14.54885707],\n",
              "       [14.5481123 ],\n",
              "       [14.54739889],\n",
              "       [14.546715  ],\n",
              "       [14.54606001],\n",
              "       [14.54543086],\n",
              "       [14.54482877],\n",
              "       [14.54425189],\n",
              "       [14.54370023],\n",
              "       [14.54317071],\n",
              "       [14.54266394],\n",
              "       [14.54217931],\n",
              "       [14.5417156 ],\n",
              "       [14.54127156],\n",
              "       [14.54084659],\n",
              "       [14.54044007],\n",
              "       [14.54005138],\n",
              "       [14.53967869],\n",
              "       [14.53932198],\n",
              "       [14.53898065],\n",
              "       [14.53865409],\n",
              "       [14.53834166],\n",
              "       [14.53804154],\n",
              "       [14.53775494],\n",
              "       [14.53748003],\n",
              "       [14.53721743],\n",
              "       [14.53696527],\n",
              "       [14.53672419],\n",
              "       [14.53649295],\n",
              "       [14.53627154],\n",
              "       [14.53605998],\n",
              "       [14.53585703],\n",
              "       [14.5356633 ],\n",
              "       [14.53547695],\n",
              "       [14.53529922],\n",
              "       [14.53512886],\n",
              "       [14.53496527],\n",
              "       [14.53481028],\n",
              "       [14.53466022],\n",
              "       [14.53451754],\n",
              "       [14.53438039],\n",
              "       [14.5342494 ],\n",
              "       [14.53412394],\n",
              "       [14.53400339],\n",
              "       [14.533889  ],\n",
              "       [14.5337783 ],\n",
              "       [14.53367375],\n",
              "       [14.53357289],\n",
              "       [14.53347572],\n",
              "       [14.53338347],\n",
              "       [14.53329613],\n",
              "       [14.53321003],\n",
              "       [14.53312885],\n",
              "       [14.53305136],\n",
              "       [14.53297633],\n",
              "       [14.5329056 ],\n",
              "       [14.53283734],\n",
              "       [14.53277215],\n",
              "       [14.53270819],\n",
              "       [14.53264915],\n",
              "       [14.53259133],\n",
              "       [14.53253721],\n",
              "       [14.53248432],\n",
              "       [14.53243389],\n",
              "       [14.53238531],\n",
              "       [14.53233918],\n",
              "       [14.53229552],\n",
              "       [14.53225308],\n",
              "       [14.53221249],\n",
              "       [14.53217374],\n",
              "       [14.53213684],\n",
              "       [14.53210179],\n",
              "       [14.53206735],\n",
              "       [14.53203414],\n",
              "       [14.53200339],\n",
              "       [14.53197387],\n",
              "       [14.53194558],\n",
              "       [14.53191729],\n",
              "       [14.53189146],\n",
              "       [14.53186686],\n",
              "       [14.53184164],\n",
              "       [14.53181888]])"
            ]
          },
          "execution_count": 402,
          "metadata": {},
          "output_type": "execute_result"
        }
      ],
      "source": [
        "predicted"
      ]
    },
    {
      "cell_type": "code",
      "execution_count": null,
      "metadata": {
        "colab": {
          "background_save": true
        },
        "id": "o2OlZ_pyAiUh",
        "outputId": "14f842eb-f75a-45fb-82c8-33afbd88fc76"
      },
      "outputs": [
        {
          "data": {
            "text/plain": [
              "[<matplotlib.lines.Line2D at 0x7ad4c05e48b0>]"
            ]
          },
          "execution_count": 403,
          "metadata": {},
          "output_type": "execute_result"
        },
        {
          "data": {
            "image/png": "[encoded data removed]",
            "text/plain": [
              "<Figure size 640x480 with 1 Axes>"
            ]
          },
          "metadata": {},
          "output_type": "display_data"
        }
      ],
      "source": [
        "plt.plot(predicted)"
      ]
    },
    {
      "cell_type": "code",
      "execution_count": null,
      "metadata": {
        "colab": {
          "background_save": true
        },
        "id": "NTUwX3-eGfx5"
      },
      "outputs": [],
      "source": [
        "id=[]\n",
        "for i in range(100):\n",
        "  id.append(filename+'_#'+str(i+1))"
      ]
    },
    {
      "cell_type": "code",
      "execution_count": null,
      "metadata": {
        "colab": {
          "background_save": true
        },
        "id": "ePlglXBoIPCg"
      },
      "outputs": [],
      "source": [
        "pre=[]\n",
        "for i in range(100):\n",
        "  pre.append(predicted[i][0])"
      ]
    },
    {
      "cell_type": "code",
      "execution_count": null,
      "metadata": {
        "colab": {
          "background_save": true
        },
        "id": "fNXaZK0tIctn",
        "outputId": "b52a7665-a58a-499b-b078-c471cacaca41"
      },
      "outputs": [
        {
          "data": {
            "text/plain": [
              "[14.569751360437506,\n",
              " 14.56811420859749,\n",
              " 14.566542247627138,\n",
              " 14.56503424751004,\n",
              " 14.563588978229786,\n",
              " 14.56220397975356,\n",
              " 14.560879252081362,\n",
              " 14.55961172017217,\n",
              " 14.55839953900137,\n",
              " 14.557242093560758,\n",
              " 14.556135078792904,\n",
              " 14.5550772646814,\n",
              " 14.554067421209835,\n",
              " 14.553100628312576,\n",
              " 14.552175655973214,\n",
              " 14.551291889183544,\n",
              " 14.550445022886136,\n",
              " 14.549633212056376,\n",
              " 14.54885707170247,\n",
              " 14.548112296766986,\n",
              " 14.547398887249924,\n",
              " 14.546714998126673,\n",
              " 14.546060014389026,\n",
              " 14.545430860995962,\n",
              " 14.54482876796389,\n",
              " 14.544251890268198,\n",
              " 14.543700227908884,\n",
              " 14.543170705844927,\n",
              " 14.542663939084532,\n",
              " 14.542179312619494,\n",
              " 14.541715596433404,\n",
              " 14.541271560509854,\n",
              " 14.540846589840639,\n",
              " 14.540440069417555,\n",
              " 14.540051384232397,\n",
              " 14.539678689260553,\n",
              " 14.539321984502022,\n",
              " 14.5389806549486,\n",
              " 14.538654085592084,\n",
              " 14.538341661424267,\n",
              " 14.538041537420538,\n",
              " 14.537754943597305,\n",
              " 14.537480034929954,\n",
              " 14.537217426426691,\n",
              " 14.536965273062902,\n",
              " 14.536724189846792,\n",
              " 14.536492946761951,\n",
              " 14.53627154380838,\n",
              " 14.53605998098608,\n",
              " 14.53585702827864,\n",
              " 14.535663300694265,\n",
              " 14.535476953208343,\n",
              " 14.535299215837282,\n",
              " 14.535128858564674,\n",
              " 14.534965266382313,\n",
              " 14.534810284314814,\n",
              " 14.534660222312949,\n",
              " 14.534517540409537,\n",
              " 14.534380393579964,\n",
              " 14.534249396832434,\n",
              " 14.534123935158744,\n",
              " 14.53400339355069,\n",
              " 14.533889002024678,\n",
              " 14.533778300547892,\n",
              " 14.53367374915315,\n",
              " 14.533572887807635,\n",
              " 14.533475716511346,\n",
              " 14.533383465280691,\n",
              " 14.533296134115671,\n",
              " 14.53321003296706,\n",
              " 14.533128851884085,\n",
              " 14.533051360850335,\n",
              " 14.532976329849403,\n",
              " 14.5329056039059,\n",
              " 14.532837337995216,\n",
              " 14.532772147125554,\n",
              " 14.5327081862723,\n",
              " 14.532649145484681,\n",
              " 14.532591334713471,\n",
              " 14.532537213991487,\n",
              " 14.532484323285912,\n",
              " 14.532433892613154,\n",
              " 14.53238530696501,\n",
              " 14.532339181349682,\n",
              " 14.532295515767172,\n",
              " 14.532253080201071,\n",
              " 14.532212489659583,\n",
              " 14.532173744142709,\n",
              " 14.532136843650447,\n",
              " 14.532101788182798,\n",
              " 14.532067347723354,\n",
              " 14.532034137280318,\n",
              " 14.5320033868701,\n",
              " 14.53197386647629,\n",
              " 14.53194557609889,\n",
              " 14.531917285721489,\n",
              " 14.531891455376906,\n",
              " 14.531866855048731,\n",
              " 14.531841639712352,\n",
              " 14.531818884408791]"
            ]
          },
          "execution_count": 406,
          "metadata": {},
          "output_type": "execute_result"
        }
      ],
      "source": [
        "pre"
      ]
    },
    {
      "cell_type": "markdown",
      "metadata": {
        "id": "O1lqEtOzRNr9"
      },
      "source": [
        "."
      ]
    },
    {
      "cell_type": "markdown",
      "metadata": {
        "id": "bHYmz7AXRMYB"
      },
      "source": [
        "."
      ]
    },
    {
      "cell_type": "code",
      "execution_count": null,
      "metadata": {
        "colab": {
          "background_save": true
        },
        "id": "VvivJweNRP5k"
      },
      "outputs": [],
      "source": [
        "dfs=pd.read_csv('Submission.csv')"
      ]
    },
    {
      "cell_type": "code",
      "execution_count": null,
      "metadata": {
        "colab": {
          "background_save": true
        },
        "id": "-mhpjMuuRXek"
      },
      "outputs": [],
      "source": [
        "id_initial=dfs['ID']"
      ]
    },
    {
      "cell_type": "code",
      "execution_count": null,
      "metadata": {
        "colab": {
          "background_save": true
        },
        "id": "g8DFL4NZRxS2"
      },
      "outputs": [],
      "source": [
        "dfi=pd.DataFrame({'ID':id})\n",
        "dfi.insert(1,\"Closing\",pre,True)"
      ]
    },
    {
      "cell_type": "code",
      "execution_count": null,
      "metadata": {
        "colab": {
          "background_save": true
        },
        "id": "COgr5eypTz3u",
        "outputId": "5784f04c-3757-4951-94a3-b74288bda03e"
      },
      "outputs": [
        {
          "data": {
            "text/html": [
              "\n",
              "  <div id=\"df-e78d3a0d-2bfa-4c6b-b21b-28ab5004d65e\" class=\"colab-df-container\">\n",
              "    <div>\n",
              "<style scoped>\n",
              "    .dataframe tbody tr th:only-of-type {\n",
              "        vertical-align: middle;\n",
              "    }\n",
              "\n",
              "    .dataframe tbody tr th {\n",
              "        vertical-align: top;\n",
              "    }\n",
              "\n",
              "    .dataframe thead th {\n",
              "        text-align: right;\n",
              "    }\n",
              "</style>\n",
              "<table border=\"1\" class=\"dataframe\">\n",
              "  <thead>\n",
              "    <tr style=\"text-align: right;\">\n",
              "      <th></th>\n",
              "      <th>ID</th>\n",
              "      <th>Closing</th>\n",
              "    </tr>\n",
              "  </thead>\n",
              "  <tbody>\n",
              "    <tr>\n",
              "      <th>0</th>\n",
              "      <td>003_#1</td>\n",
              "      <td>197.655685</td>\n",
              "    </tr>\n",
              "    <tr>\n",
              "      <th>1</th>\n",
              "      <td>003_#2</td>\n",
              "      <td>197.556461</td>\n",
              "    </tr>\n",
              "    <tr>\n",
              "      <th>2</th>\n",
              "      <td>003_#3</td>\n",
              "      <td>197.458767</td>\n",
              "    </tr>\n",
              "    <tr>\n",
              "      <th>3</th>\n",
              "      <td>003_#4</td>\n",
              "      <td>197.362547</td>\n",
              "    </tr>\n",
              "    <tr>\n",
              "      <th>4</th>\n",
              "      <td>003_#5</td>\n",
              "      <td>197.267800</td>\n",
              "    </tr>\n",
              "    <tr>\n",
              "      <th>...</th>\n",
              "      <td>...</td>\n",
              "      <td>...</td>\n",
              "    </tr>\n",
              "    <tr>\n",
              "      <th>95</th>\n",
              "      <td>473_#96</td>\n",
              "      <td>14.531917</td>\n",
              "    </tr>\n",
              "    <tr>\n",
              "      <th>96</th>\n",
              "      <td>473_#97</td>\n",
              "      <td>14.531891</td>\n",
              "    </tr>\n",
              "    <tr>\n",
              "      <th>97</th>\n",
              "      <td>473_#98</td>\n",
              "      <td>14.531867</td>\n",
              "    </tr>\n",
              "    <tr>\n",
              "      <th>98</th>\n",
              "      <td>473_#99</td>\n",
              "      <td>14.531842</td>\n",
              "    </tr>\n",
              "    <tr>\n",
              "      <th>99</th>\n",
              "      <td>473_#100</td>\n",
              "      <td>14.531819</td>\n",
              "    </tr>\n",
              "  </tbody>\n",
              "</table>\n",
              "<p>2700 rows × 2 columns</p>\n",
              "</div>\n",
              "    <div class=\"colab-df-buttons\">\n",
              "\n",
              "  <div class=\"colab-df-container\">\n",
              "    <button class=\"colab-df-convert\" onclick=\"convertToInteractive('df-e78d3a0d-2bfa-4c6b-b21b-28ab5004d65e')\"\n",
              "            title=\"Convert this dataframe to an interactive table.\"\n",
              "            style=\"display:none;\">\n",
              "\n",
              "  <svg xmlns=\"http://www.w3.org/2000/svg\" height=\"24px\" viewBox=\"0 -960 960 960\">\n",
              "    <path d=\"M120-120v-720h720v720H120Zm60-500h600v-160H180v160Zm220 220h160v-160H400v160Zm0 220h160v-160H400v160ZM180-400h160v-160H180v160Zm440 0h160v-160H620v160ZM180-180h160v-160H180v160Zm440 0h160v-160H620v160Z\"/>\n",
              "  </svg>\n",
              "    </button>\n",
              "\n",
              "  <style>\n",
              "    .colab-df-container {\n",
              "      display:flex;\n",
              "      gap: 12px;\n",
              "    }\n",
              "\n",
              "    .colab-df-convert {\n",
              "      background-color: #E8F0FE;\n",
              "      border: none;\n",
              "      border-radius: 50%;\n",
              "      cursor: pointer;\n",
              "      display: none;\n",
              "      fill: #1967D2;\n",
              "      height: 32px;\n",
              "      padding: 0 0 0 0;\n",
              "      width: 32px;\n",
              "    }\n",
              "\n",
              "    .colab-df-convert:hover {\n",
              "      background-color: #E2EBFA;\n",
              "      box-shadow: 0px 1px 2px rgba(60, 64, 67, 0.3), 0px 1px 3px 1px rgba(60, 64, 67, 0.15);\n",
              "      fill: #174EA6;\n",
              "    }\n",
              "\n",
              "    .colab-df-buttons div {\n",
              "      margin-bottom: 4px;\n",
              "    }\n",
              "\n",
              "    [theme=dark] .colab-df-convert {\n",
              "      background-color: #3B4455;\n",
              "      fill: #D2E3FC;\n",
              "    }\n",
              "\n",
              "    [theme=dark] .colab-df-convert:hover {\n",
              "      background-color: #434B5C;\n",
              "      box-shadow: 0px 1px 3px 1px rgba(0, 0, 0, 0.15);\n",
              "      filter: drop-shadow(0px 1px 2px rgba(0, 0, 0, 0.3));\n",
              "      fill: #FFFFFF;\n",
              "    }\n",
              "  </style>\n",
              "\n",
              "    <script>\n",
              "      const buttonEl =\n",
              "        document.querySelector('#df-e78d3a0d-2bfa-4c6b-b21b-28ab5004d65e button.colab-df-convert');\n",
              "      buttonEl.style.display =\n",
              "        google.colab.kernel.accessAllowed ? 'block' : 'none';\n",
              "\n",
              "      async function convertToInteractive(key) {\n",
              "        const element = document.querySelector('#df-e78d3a0d-2bfa-4c6b-b21b-28ab5004d65e');\n",
              "        const dataTable =\n",
              "          await google.colab.kernel.invokeFunction('convertToInteractive',\n",
              "                                                    [key], {});\n",
              "        if (!dataTable) return;\n",
              "\n",
              "        const docLinkHtml = 'Like what you see? Visit the ' +\n",
              "          '<a target=\"_blank\" href=https://colab.research.google.com/notebooks/data_table.ipynb>data table notebook</a>'\n",
              "          + ' to learn more about interactive tables.';\n",
              "        element.innerHTML = '';\n",
              "        dataTable['output_type'] = 'display_data';\n",
              "        await google.colab.output.renderOutput(dataTable, element);\n",
              "        const docLink = document.createElement('div');\n",
              "        docLink.innerHTML = docLinkHtml;\n",
              "        element.appendChild(docLink);\n",
              "      }\n",
              "    </script>\n",
              "  </div>\n",
              "\n",
              "\n",
              "<div id=\"df-9a84c811-82cf-4c86-a042-941fd7ed6f35\">\n",
              "  <button class=\"colab-df-quickchart\" onclick=\"quickchart('df-9a84c811-82cf-4c86-a042-941fd7ed6f35')\"\n",
              "            title=\"Suggest charts.\"\n",
              "            style=\"display:none;\">\n",
              "\n",
              "<svg xmlns=\"http://www.w3.org/2000/svg\" height=\"24px\"viewBox=\"0 0 24 24\"\n",
              "     width=\"24px\">\n",
              "    <g>\n",
              "        <path d=\"M19 3H5c-1.1 0-2 .9-2 2v14c0 1.1.9 2 2 2h14c1.1 0 2-.9 2-2V5c0-1.1-.9-2-2-2zM9 17H7v-7h2v7zm4 0h-2V7h2v10zm4 0h-2v-4h2v4z\"/>\n",
              "    </g>\n",
              "</svg>\n",
              "  </button>\n",
              "\n",
              "<style>\n",
              "  .colab-df-quickchart {\n",
              "      --bg-color: #E8F0FE;\n",
              "      --fill-color: #1967D2;\n",
              "      --hover-bg-color: #E2EBFA;\n",
              "      --hover-fill-color: #174EA6;\n",
              "      --disabled-fill-color: #AAA;\n",
              "      --disabled-bg-color: #DDD;\n",
              "  }\n",
              "\n",
              "  [theme=dark] .colab-df-quickchart {\n",
              "      --bg-color: #3B4455;\n",
              "      --fill-color: #D2E3FC;\n",
              "      --hover-bg-color: #434B5C;\n",
              "      --hover-fill-color: #FFFFFF;\n",
              "      --disabled-bg-color: #3B4455;\n",
              "      --disabled-fill-color: #666;\n",
              "  }\n",
              "\n",
              "  .colab-df-quickchart {\n",
              "    background-color: var(--bg-color);\n",
              "    border: none;\n",
              "    border-radius: 50%;\n",
              "    cursor: pointer;\n",
              "    display: none;\n",
              "    fill: var(--fill-color);\n",
              "    height: 32px;\n",
              "    padding: 0;\n",
              "    width: 32px;\n",
              "  }\n",
              "\n",
              "  .colab-df-quickchart:hover {\n",
              "    background-color: var(--hover-bg-color);\n",
              "    box-shadow: 0 1px 2px rgba(60, 64, 67, 0.3), 0 1px 3px 1px rgba(60, 64, 67, 0.15);\n",
              "    fill: var(--button-hover-fill-color);\n",
              "  }\n",
              "\n",
              "  .colab-df-quickchart-complete:disabled,\n",
              "  .colab-df-quickchart-complete:disabled:hover {\n",
              "    background-color: var(--disabled-bg-color);\n",
              "    fill: var(--disabled-fill-color);\n",
              "    box-shadow: none;\n",
              "  }\n",
              "\n",
              "  .colab-df-spinner {\n",
              "    border: 2px solid var(--fill-color);\n",
              "    border-color: transparent;\n",
              "    border-bottom-color: var(--fill-color);\n",
              "    animation:\n",
              "      spin 1s steps(1) infinite;\n",
              "  }\n",
              "\n",
              "  @keyframes spin {\n",
              "    0% {\n",
              "      border-color: transparent;\n",
              "      border-bottom-color: var(--fill-color);\n",
              "      border-left-color: var(--fill-color);\n",
              "    }\n",
              "    20% {\n",
              "      border-color: transparent;\n",
              "      border-left-color: var(--fill-color);\n",
              "      border-top-color: var(--fill-color);\n",
              "    }\n",
              "    30% {\n",
              "      border-color: transparent;\n",
              "      border-left-color: var(--fill-color);\n",
              "      border-top-color: var(--fill-color);\n",
              "      border-right-color: var(--fill-color);\n",
              "    }\n",
              "    40% {\n",
              "      border-color: transparent;\n",
              "      border-right-color: var(--fill-color);\n",
              "      border-top-color: var(--fill-color);\n",
              "    }\n",
              "    60% {\n",
              "      border-color: transparent;\n",
              "      border-right-color: var(--fill-color);\n",
              "    }\n",
              "    80% {\n",
              "      border-color: transparent;\n",
              "      border-right-color: var(--fill-color);\n",
              "      border-bottom-color: var(--fill-color);\n",
              "    }\n",
              "    90% {\n",
              "      border-color: transparent;\n",
              "      border-bottom-color: var(--fill-color);\n",
              "    }\n",
              "  }\n",
              "</style>\n",
              "\n",
              "  <script>\n",
              "    async function quickchart(key) {\n",
              "      const quickchartButtonEl =\n",
              "        document.querySelector('#' + key + ' button');\n",
              "      quickchartButtonEl.disabled = true;  // To prevent multiple clicks.\n",
              "      quickchartButtonEl.classList.add('colab-df-spinner');\n",
              "      try {\n",
              "        const charts = await google.colab.kernel.invokeFunction(\n",
              "            'suggestCharts', [key], {});\n",
              "      } catch (error) {\n",
              "        console.error('Error during call to suggestCharts:', error);\n",
              "      }\n",
              "      quickchartButtonEl.classList.remove('colab-df-spinner');\n",
              "      quickchartButtonEl.classList.add('colab-df-quickchart-complete');\n",
              "    }\n",
              "    (() => {\n",
              "      let quickchartButtonEl =\n",
              "        document.querySelector('#df-9a84c811-82cf-4c86-a042-941fd7ed6f35 button');\n",
              "      quickchartButtonEl.style.display =\n",
              "        google.colab.kernel.accessAllowed ? 'block' : 'none';\n",
              "    })();\n",
              "  </script>\n",
              "</div>\n",
              "    </div>\n",
              "  </div>\n"
            ],
            "text/plain": [
              "          ID     Closing\n",
              "0     003_#1  197.655685\n",
              "1     003_#2  197.556461\n",
              "2     003_#3  197.458767\n",
              "3     003_#4  197.362547\n",
              "4     003_#5  197.267800\n",
              "..       ...         ...\n",
              "95   473_#96   14.531917\n",
              "96   473_#97   14.531891\n",
              "97   473_#98   14.531867\n",
              "98   473_#99   14.531842\n",
              "99  473_#100   14.531819\n",
              "\n",
              "[2700 rows x 2 columns]"
            ]
          },
          "execution_count": 410,
          "metadata": {},
          "output_type": "execute_result"
        }
      ],
      "source": [
        "dfss=pd.concat([dfs,dfi],axis=0)\n",
        "dfss"
      ]
    },
    {
      "cell_type": "code",
      "execution_count": null,
      "metadata": {
        "colab": {
          "background_save": true
        },
        "id": "1JxCd94eVSUb"
      },
      "outputs": [],
      "source": [
        "dfss.to_csv('Submission.csv',index=False)"
      ]
    },
    {
      "cell_type": "code",
      "execution_count": null,
      "metadata": {
        "colab": {
          "background_save": true
        },
        "id": "drZLFAhBHscF"
      },
      "outputs": [],
      "source": [
        "#sub=pd.DataFrame({'ID':id})"
      ]
    },
    {
      "cell_type": "code",
      "execution_count": null,
      "metadata": {
        "colab": {
          "background_save": true
        },
        "id": "lS3oGUjmH6xu"
      },
      "outputs": [],
      "source": [
        "#sub.insert(1,\"Closing\",pre,True)"
      ]
    },
    {
      "cell_type": "code",
      "execution_count": null,
      "metadata": {
        "colab": {
          "background_save": true
        },
        "id": "hv-GakB6JoNi"
      },
      "outputs": [],
      "source": [
        "#sub.to_csv('Submission.csv',index=False)"
      ]
    },
    {
      "cell_type": "code",
      "execution_count": null,
      "metadata": {
        "colab": {
          "background_save": true
        },
        "id": "mhxnswC-Q317"
      },
      "outputs": [],
      "source": []
    }
  ],
  "metadata": {
    "accelerator": "GPU",
    "colab": {
      "provenance": []
    },
    "kernelspec": {
      "display_name": "Python 3",
      "name": "python3"
    },
    "language_info": {
      "name": "python"
    }
  },
  "nbformat": 4,
  "nbformat_minor": 0
}